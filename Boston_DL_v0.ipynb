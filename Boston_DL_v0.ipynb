{
  "cells": [
    {
      "cell_type": "markdown",
      "metadata": {
        "id": "2-1Dou_EpUG-"
      },
      "source": [
        "# Boston House Price Prediction\n",
        "\n",
        "https://www.kaggle.com/c/boston-housing\n",
        "\n",
        "- CRIM - per capita crime rate by town\n",
        "- ZN - proportion of residential land zoned for lots over 25,000 sq.ft.\n",
        "- INDUS - proportion of non-retail business acres per town.\n",
        "- CHAS - Charles River dummy variable (1 if tract bounds river; 0 otherwise)\n",
        "- NOX - nitric oxides concentration (parts per 10 million)\n",
        "- RM - average number of rooms per dwelling\n",
        "- AGE - proportion of owner-occupied units built prior to 1940\n",
        "- DIS - weighted distances to five Boston employment centres\n",
        "- RAD - index of accessibility to radial highways\n",
        "- TAX - full-value property-tax rate per \\$10,000\n",
        "- PTRATIO - pupil-teacher ratio by town\n",
        "- B - 1000(Bk - 0.63)^2 where Bk is the proportion of blacks by town\n",
        "- LSTAT - percentage lower status of the population\n",
        "- MEDV - Median value of owner-occupied homes in $1000's"
      ]
    },
    {
      "cell_type": "markdown",
      "metadata": {
        "id": "DoE849Mnc2Gl"
      },
      "source": [
        "## Load the dataset"
      ]
    },
    {
      "cell_type": "code",
      "execution_count": 1,
      "metadata": {
        "id": "B1wKYxI5pUHD"
      },
      "outputs": [],
      "source": [
        "import warnings\n",
        "warnings.filterwarnings('ignore')"
      ]
    },
    {
      "cell_type": "code",
      "execution_count": 2,
      "metadata": {
        "id": "S5qqu9zCpUHO"
      },
      "outputs": [],
      "source": [
        "import pandas as pd\n",
        "import numpy as np"
      ]
    },
    {
      "cell_type": "code",
      "execution_count": 3,
      "metadata": {
        "id": "OUfKELWZpUHO"
      },
      "outputs": [],
      "source": [
        "boston_df = pd.read_csv('https://raw.githubusercontent.com/manaranjanp/GenAI_LLM/main/DLIntro/boston.csv')"
      ]
    },
    {
      "cell_type": "code",
      "execution_count": 4,
      "metadata": {
        "colab": {
          "base_uri": "https://localhost:8080/",
          "height": 206
        },
        "id": "GIf7_Ms0pUHP",
        "outputId": "b680efe8-9980-4431-d6ba-e42e8c625ce9"
      },
      "outputs": [
        {
          "output_type": "execute_result",
          "data": {
            "text/plain": [
              "   ID     crim    zn  indus  chas    nox     rm   age     dis  rad  tax  \\\n",
              "0   1  0.00632  18.0   2.31     0  0.538  6.575  65.2  4.0900    1  296   \n",
              "1   2  0.02731   0.0   7.07     0  0.469  6.421  78.9  4.9671    2  242   \n",
              "2   4  0.03237   0.0   2.18     0  0.458  6.998  45.8  6.0622    3  222   \n",
              "3   5  0.06905   0.0   2.18     0  0.458  7.147  54.2  6.0622    3  222   \n",
              "4   7  0.08829  12.5   7.87     0  0.524  6.012  66.6  5.5605    5  311   \n",
              "\n",
              "   ptratio   black  lstat  medv  \n",
              "0     15.3  396.90   4.98  24.0  \n",
              "1     17.8  396.90   9.14  21.6  \n",
              "2     18.7  394.63   2.94  33.4  \n",
              "3     18.7  396.90   5.33  36.2  \n",
              "4     15.2  395.60  12.43  22.9  "
            ],
            "text/html": [
              "\n",
              "  <div id=\"df-4854cbf7-3d73-4a85-9851-593e85b46bab\" class=\"colab-df-container\">\n",
              "    <div>\n",
              "<style scoped>\n",
              "    .dataframe tbody tr th:only-of-type {\n",
              "        vertical-align: middle;\n",
              "    }\n",
              "\n",
              "    .dataframe tbody tr th {\n",
              "        vertical-align: top;\n",
              "    }\n",
              "\n",
              "    .dataframe thead th {\n",
              "        text-align: right;\n",
              "    }\n",
              "</style>\n",
              "<table border=\"1\" class=\"dataframe\">\n",
              "  <thead>\n",
              "    <tr style=\"text-align: right;\">\n",
              "      <th></th>\n",
              "      <th>ID</th>\n",
              "      <th>crim</th>\n",
              "      <th>zn</th>\n",
              "      <th>indus</th>\n",
              "      <th>chas</th>\n",
              "      <th>nox</th>\n",
              "      <th>rm</th>\n",
              "      <th>age</th>\n",
              "      <th>dis</th>\n",
              "      <th>rad</th>\n",
              "      <th>tax</th>\n",
              "      <th>ptratio</th>\n",
              "      <th>black</th>\n",
              "      <th>lstat</th>\n",
              "      <th>medv</th>\n",
              "    </tr>\n",
              "  </thead>\n",
              "  <tbody>\n",
              "    <tr>\n",
              "      <th>0</th>\n",
              "      <td>1</td>\n",
              "      <td>0.00632</td>\n",
              "      <td>18.0</td>\n",
              "      <td>2.31</td>\n",
              "      <td>0</td>\n",
              "      <td>0.538</td>\n",
              "      <td>6.575</td>\n",
              "      <td>65.2</td>\n",
              "      <td>4.0900</td>\n",
              "      <td>1</td>\n",
              "      <td>296</td>\n",
              "      <td>15.3</td>\n",
              "      <td>396.90</td>\n",
              "      <td>4.98</td>\n",
              "      <td>24.0</td>\n",
              "    </tr>\n",
              "    <tr>\n",
              "      <th>1</th>\n",
              "      <td>2</td>\n",
              "      <td>0.02731</td>\n",
              "      <td>0.0</td>\n",
              "      <td>7.07</td>\n",
              "      <td>0</td>\n",
              "      <td>0.469</td>\n",
              "      <td>6.421</td>\n",
              "      <td>78.9</td>\n",
              "      <td>4.9671</td>\n",
              "      <td>2</td>\n",
              "      <td>242</td>\n",
              "      <td>17.8</td>\n",
              "      <td>396.90</td>\n",
              "      <td>9.14</td>\n",
              "      <td>21.6</td>\n",
              "    </tr>\n",
              "    <tr>\n",
              "      <th>2</th>\n",
              "      <td>4</td>\n",
              "      <td>0.03237</td>\n",
              "      <td>0.0</td>\n",
              "      <td>2.18</td>\n",
              "      <td>0</td>\n",
              "      <td>0.458</td>\n",
              "      <td>6.998</td>\n",
              "      <td>45.8</td>\n",
              "      <td>6.0622</td>\n",
              "      <td>3</td>\n",
              "      <td>222</td>\n",
              "      <td>18.7</td>\n",
              "      <td>394.63</td>\n",
              "      <td>2.94</td>\n",
              "      <td>33.4</td>\n",
              "    </tr>\n",
              "    <tr>\n",
              "      <th>3</th>\n",
              "      <td>5</td>\n",
              "      <td>0.06905</td>\n",
              "      <td>0.0</td>\n",
              "      <td>2.18</td>\n",
              "      <td>0</td>\n",
              "      <td>0.458</td>\n",
              "      <td>7.147</td>\n",
              "      <td>54.2</td>\n",
              "      <td>6.0622</td>\n",
              "      <td>3</td>\n",
              "      <td>222</td>\n",
              "      <td>18.7</td>\n",
              "      <td>396.90</td>\n",
              "      <td>5.33</td>\n",
              "      <td>36.2</td>\n",
              "    </tr>\n",
              "    <tr>\n",
              "      <th>4</th>\n",
              "      <td>7</td>\n",
              "      <td>0.08829</td>\n",
              "      <td>12.5</td>\n",
              "      <td>7.87</td>\n",
              "      <td>0</td>\n",
              "      <td>0.524</td>\n",
              "      <td>6.012</td>\n",
              "      <td>66.6</td>\n",
              "      <td>5.5605</td>\n",
              "      <td>5</td>\n",
              "      <td>311</td>\n",
              "      <td>15.2</td>\n",
              "      <td>395.60</td>\n",
              "      <td>12.43</td>\n",
              "      <td>22.9</td>\n",
              "    </tr>\n",
              "  </tbody>\n",
              "</table>\n",
              "</div>\n",
              "    <div class=\"colab-df-buttons\">\n",
              "\n",
              "  <div class=\"colab-df-container\">\n",
              "    <button class=\"colab-df-convert\" onclick=\"convertToInteractive('df-4854cbf7-3d73-4a85-9851-593e85b46bab')\"\n",
              "            title=\"Convert this dataframe to an interactive table.\"\n",
              "            style=\"display:none;\">\n",
              "\n",
              "  <svg xmlns=\"http://www.w3.org/2000/svg\" height=\"24px\" viewBox=\"0 -960 960 960\">\n",
              "    <path d=\"M120-120v-720h720v720H120Zm60-500h600v-160H180v160Zm220 220h160v-160H400v160Zm0 220h160v-160H400v160ZM180-400h160v-160H180v160Zm440 0h160v-160H620v160ZM180-180h160v-160H180v160Zm440 0h160v-160H620v160Z\"/>\n",
              "  </svg>\n",
              "    </button>\n",
              "\n",
              "  <style>\n",
              "    .colab-df-container {\n",
              "      display:flex;\n",
              "      gap: 12px;\n",
              "    }\n",
              "\n",
              "    .colab-df-convert {\n",
              "      background-color: #E8F0FE;\n",
              "      border: none;\n",
              "      border-radius: 50%;\n",
              "      cursor: pointer;\n",
              "      display: none;\n",
              "      fill: #1967D2;\n",
              "      height: 32px;\n",
              "      padding: 0 0 0 0;\n",
              "      width: 32px;\n",
              "    }\n",
              "\n",
              "    .colab-df-convert:hover {\n",
              "      background-color: #E2EBFA;\n",
              "      box-shadow: 0px 1px 2px rgba(60, 64, 67, 0.3), 0px 1px 3px 1px rgba(60, 64, 67, 0.15);\n",
              "      fill: #174EA6;\n",
              "    }\n",
              "\n",
              "    .colab-df-buttons div {\n",
              "      margin-bottom: 4px;\n",
              "    }\n",
              "\n",
              "    [theme=dark] .colab-df-convert {\n",
              "      background-color: #3B4455;\n",
              "      fill: #D2E3FC;\n",
              "    }\n",
              "\n",
              "    [theme=dark] .colab-df-convert:hover {\n",
              "      background-color: #434B5C;\n",
              "      box-shadow: 0px 1px 3px 1px rgba(0, 0, 0, 0.15);\n",
              "      filter: drop-shadow(0px 1px 2px rgba(0, 0, 0, 0.3));\n",
              "      fill: #FFFFFF;\n",
              "    }\n",
              "  </style>\n",
              "\n",
              "    <script>\n",
              "      const buttonEl =\n",
              "        document.querySelector('#df-4854cbf7-3d73-4a85-9851-593e85b46bab button.colab-df-convert');\n",
              "      buttonEl.style.display =\n",
              "        google.colab.kernel.accessAllowed ? 'block' : 'none';\n",
              "\n",
              "      async function convertToInteractive(key) {\n",
              "        const element = document.querySelector('#df-4854cbf7-3d73-4a85-9851-593e85b46bab');\n",
              "        const dataTable =\n",
              "          await google.colab.kernel.invokeFunction('convertToInteractive',\n",
              "                                                    [key], {});\n",
              "        if (!dataTable) return;\n",
              "\n",
              "        const docLinkHtml = 'Like what you see? Visit the ' +\n",
              "          '<a target=\"_blank\" href=https://colab.research.google.com/notebooks/data_table.ipynb>data table notebook</a>'\n",
              "          + ' to learn more about interactive tables.';\n",
              "        element.innerHTML = '';\n",
              "        dataTable['output_type'] = 'display_data';\n",
              "        await google.colab.output.renderOutput(dataTable, element);\n",
              "        const docLink = document.createElement('div');\n",
              "        docLink.innerHTML = docLinkHtml;\n",
              "        element.appendChild(docLink);\n",
              "      }\n",
              "    </script>\n",
              "  </div>\n",
              "\n",
              "\n",
              "<div id=\"df-42432fd0-daae-43e2-b494-8d2919de779d\">\n",
              "  <button class=\"colab-df-quickchart\" onclick=\"quickchart('df-42432fd0-daae-43e2-b494-8d2919de779d')\"\n",
              "            title=\"Suggest charts\"\n",
              "            style=\"display:none;\">\n",
              "\n",
              "<svg xmlns=\"http://www.w3.org/2000/svg\" height=\"24px\"viewBox=\"0 0 24 24\"\n",
              "     width=\"24px\">\n",
              "    <g>\n",
              "        <path d=\"M19 3H5c-1.1 0-2 .9-2 2v14c0 1.1.9 2 2 2h14c1.1 0 2-.9 2-2V5c0-1.1-.9-2-2-2zM9 17H7v-7h2v7zm4 0h-2V7h2v10zm4 0h-2v-4h2v4z\"/>\n",
              "    </g>\n",
              "</svg>\n",
              "  </button>\n",
              "\n",
              "<style>\n",
              "  .colab-df-quickchart {\n",
              "      --bg-color: #E8F0FE;\n",
              "      --fill-color: #1967D2;\n",
              "      --hover-bg-color: #E2EBFA;\n",
              "      --hover-fill-color: #174EA6;\n",
              "      --disabled-fill-color: #AAA;\n",
              "      --disabled-bg-color: #DDD;\n",
              "  }\n",
              "\n",
              "  [theme=dark] .colab-df-quickchart {\n",
              "      --bg-color: #3B4455;\n",
              "      --fill-color: #D2E3FC;\n",
              "      --hover-bg-color: #434B5C;\n",
              "      --hover-fill-color: #FFFFFF;\n",
              "      --disabled-bg-color: #3B4455;\n",
              "      --disabled-fill-color: #666;\n",
              "  }\n",
              "\n",
              "  .colab-df-quickchart {\n",
              "    background-color: var(--bg-color);\n",
              "    border: none;\n",
              "    border-radius: 50%;\n",
              "    cursor: pointer;\n",
              "    display: none;\n",
              "    fill: var(--fill-color);\n",
              "    height: 32px;\n",
              "    padding: 0;\n",
              "    width: 32px;\n",
              "  }\n",
              "\n",
              "  .colab-df-quickchart:hover {\n",
              "    background-color: var(--hover-bg-color);\n",
              "    box-shadow: 0 1px 2px rgba(60, 64, 67, 0.3), 0 1px 3px 1px rgba(60, 64, 67, 0.15);\n",
              "    fill: var(--button-hover-fill-color);\n",
              "  }\n",
              "\n",
              "  .colab-df-quickchart-complete:disabled,\n",
              "  .colab-df-quickchart-complete:disabled:hover {\n",
              "    background-color: var(--disabled-bg-color);\n",
              "    fill: var(--disabled-fill-color);\n",
              "    box-shadow: none;\n",
              "  }\n",
              "\n",
              "  .colab-df-spinner {\n",
              "    border: 2px solid var(--fill-color);\n",
              "    border-color: transparent;\n",
              "    border-bottom-color: var(--fill-color);\n",
              "    animation:\n",
              "      spin 1s steps(1) infinite;\n",
              "  }\n",
              "\n",
              "  @keyframes spin {\n",
              "    0% {\n",
              "      border-color: transparent;\n",
              "      border-bottom-color: var(--fill-color);\n",
              "      border-left-color: var(--fill-color);\n",
              "    }\n",
              "    20% {\n",
              "      border-color: transparent;\n",
              "      border-left-color: var(--fill-color);\n",
              "      border-top-color: var(--fill-color);\n",
              "    }\n",
              "    30% {\n",
              "      border-color: transparent;\n",
              "      border-left-color: var(--fill-color);\n",
              "      border-top-color: var(--fill-color);\n",
              "      border-right-color: var(--fill-color);\n",
              "    }\n",
              "    40% {\n",
              "      border-color: transparent;\n",
              "      border-right-color: var(--fill-color);\n",
              "      border-top-color: var(--fill-color);\n",
              "    }\n",
              "    60% {\n",
              "      border-color: transparent;\n",
              "      border-right-color: var(--fill-color);\n",
              "    }\n",
              "    80% {\n",
              "      border-color: transparent;\n",
              "      border-right-color: var(--fill-color);\n",
              "      border-bottom-color: var(--fill-color);\n",
              "    }\n",
              "    90% {\n",
              "      border-color: transparent;\n",
              "      border-bottom-color: var(--fill-color);\n",
              "    }\n",
              "  }\n",
              "</style>\n",
              "\n",
              "  <script>\n",
              "    async function quickchart(key) {\n",
              "      const quickchartButtonEl =\n",
              "        document.querySelector('#' + key + ' button');\n",
              "      quickchartButtonEl.disabled = true;  // To prevent multiple clicks.\n",
              "      quickchartButtonEl.classList.add('colab-df-spinner');\n",
              "      try {\n",
              "        const charts = await google.colab.kernel.invokeFunction(\n",
              "            'suggestCharts', [key], {});\n",
              "      } catch (error) {\n",
              "        console.error('Error during call to suggestCharts:', error);\n",
              "      }\n",
              "      quickchartButtonEl.classList.remove('colab-df-spinner');\n",
              "      quickchartButtonEl.classList.add('colab-df-quickchart-complete');\n",
              "    }\n",
              "    (() => {\n",
              "      let quickchartButtonEl =\n",
              "        document.querySelector('#df-42432fd0-daae-43e2-b494-8d2919de779d button');\n",
              "      quickchartButtonEl.style.display =\n",
              "        google.colab.kernel.accessAllowed ? 'block' : 'none';\n",
              "    })();\n",
              "  </script>\n",
              "</div>\n",
              "\n",
              "    </div>\n",
              "  </div>\n"
            ]
          },
          "metadata": {},
          "execution_count": 4
        }
      ],
      "source": [
        "boston_df.head(5)"
      ]
    },
    {
      "cell_type": "code",
      "execution_count": 5,
      "metadata": {
        "colab": {
          "base_uri": "https://localhost:8080/"
        },
        "id": "flte9DtwpUHQ",
        "outputId": "586341fc-9deb-424f-be8a-8fed4b4d66c7"
      },
      "outputs": [
        {
          "output_type": "stream",
          "name": "stdout",
          "text": [
            "<class 'pandas.core.frame.DataFrame'>\n",
            "RangeIndex: 333 entries, 0 to 332\n",
            "Data columns (total 15 columns):\n",
            " #   Column   Non-Null Count  Dtype  \n",
            "---  ------   --------------  -----  \n",
            " 0   ID       333 non-null    int64  \n",
            " 1   crim     333 non-null    float64\n",
            " 2   zn       333 non-null    float64\n",
            " 3   indus    333 non-null    float64\n",
            " 4   chas     333 non-null    int64  \n",
            " 5   nox      333 non-null    float64\n",
            " 6   rm       333 non-null    float64\n",
            " 7   age      333 non-null    float64\n",
            " 8   dis      333 non-null    float64\n",
            " 9   rad      333 non-null    int64  \n",
            " 10  tax      333 non-null    int64  \n",
            " 11  ptratio  333 non-null    float64\n",
            " 12  black    333 non-null    float64\n",
            " 13  lstat    333 non-null    float64\n",
            " 14  medv     333 non-null    float64\n",
            "dtypes: float64(11), int64(4)\n",
            "memory usage: 39.1 KB\n"
          ]
        }
      ],
      "source": [
        "boston_df.info()"
      ]
    },
    {
      "cell_type": "markdown",
      "metadata": {
        "id": "oVblHrWqpUHQ"
      },
      "source": [
        "### Set X and Y Variables"
      ]
    },
    {
      "cell_type": "code",
      "execution_count": 6,
      "metadata": {
        "colab": {
          "base_uri": "https://localhost:8080/"
        },
        "id": "UvROJKlOpUHR",
        "outputId": "4a6f0cf2-0a92-410b-c538-34a11b88330d"
      },
      "outputs": [
        {
          "output_type": "execute_result",
          "data": {
            "text/plain": [
              "Index(['ID', 'crim', 'zn', 'indus', 'chas', 'nox', 'rm', 'age', 'dis', 'rad',\n",
              "       'tax', 'ptratio', 'black', 'lstat', 'medv'],\n",
              "      dtype='object')"
            ]
          },
          "metadata": {},
          "execution_count": 6
        }
      ],
      "source": [
        "boston_df.columns"
      ]
    },
    {
      "cell_type": "code",
      "execution_count": 7,
      "metadata": {
        "id": "y3ClLYm_pUHS"
      },
      "outputs": [],
      "source": [
        "X = np.array(boston_df[['crim', 'zn', 'indus', 'chas',\n",
        "                        'nox', 'rm', 'age', 'dis', 'rad',\n",
        "                        'tax', 'ptratio', 'black', 'lstat']])"
      ]
    },
    {
      "cell_type": "code",
      "execution_count": 8,
      "metadata": {
        "id": "OF9IFsDUpUHS"
      },
      "outputs": [],
      "source": [
        "Y = np.array(boston_df.medv)"
      ]
    },
    {
      "cell_type": "code",
      "execution_count": 9,
      "metadata": {
        "colab": {
          "base_uri": "https://localhost:8080/"
        },
        "id": "NNf4RIowpUHT",
        "outputId": "62e4f394-0f9c-424a-8e21-d9a21c926f9a"
      },
      "outputs": [
        {
          "output_type": "execute_result",
          "data": {
            "text/plain": [
              "(333, 13)"
            ]
          },
          "metadata": {},
          "execution_count": 9
        }
      ],
      "source": [
        "X.shape"
      ]
    },
    {
      "cell_type": "code",
      "execution_count": 10,
      "metadata": {
        "colab": {
          "base_uri": "https://localhost:8080/"
        },
        "id": "ZSRekitOpUHT",
        "outputId": "ef7866aa-6c38-461e-9528-c6b2b4dfe79f"
      },
      "outputs": [
        {
          "output_type": "execute_result",
          "data": {
            "text/plain": [
              "(333,)"
            ]
          },
          "metadata": {},
          "execution_count": 10
        }
      ],
      "source": [
        "Y.shape"
      ]
    },
    {
      "cell_type": "markdown",
      "metadata": {
        "id": "6I0wUZBGpUHU"
      },
      "source": [
        "## Split dataset into train and test"
      ]
    },
    {
      "cell_type": "code",
      "execution_count": 11,
      "metadata": {
        "id": "jdt-ExLFpUHU"
      },
      "outputs": [],
      "source": [
        "from sklearn.model_selection import train_test_split"
      ]
    },
    {
      "cell_type": "code",
      "execution_count": 12,
      "metadata": {
        "id": "E5k7p5oSpUHU"
      },
      "outputs": [],
      "source": [
        "train_X, test_X, train_y, test_y = train_test_split( X, Y, test_size = 0.2)"
      ]
    },
    {
      "cell_type": "code",
      "execution_count": 13,
      "metadata": {
        "colab": {
          "base_uri": "https://localhost:8080/"
        },
        "id": "XztH1ubZpUHV",
        "outputId": "2f5f940a-30b8-4dcd-e55e-c58726605beb"
      },
      "outputs": [
        {
          "output_type": "execute_result",
          "data": {
            "text/plain": [
              "(266, 13)"
            ]
          },
          "metadata": {},
          "execution_count": 13
        }
      ],
      "source": [
        "train_X.shape"
      ]
    },
    {
      "cell_type": "code",
      "execution_count": 14,
      "metadata": {
        "colab": {
          "base_uri": "https://localhost:8080/"
        },
        "id": "iE4n8hS4pUHV",
        "outputId": "3baac981-7897-48f7-a8eb-d3b275ebeba1"
      },
      "outputs": [
        {
          "output_type": "execute_result",
          "data": {
            "text/plain": [
              "(67, 13)"
            ]
          },
          "metadata": {},
          "execution_count": 14
        }
      ],
      "source": [
        "test_X.shape"
      ]
    },
    {
      "cell_type": "markdown",
      "metadata": {
        "id": "_z8OQhmwpUHW"
      },
      "source": [
        "### Normalize data"
      ]
    },
    {
      "cell_type": "markdown",
      "metadata": {
        "id": "UPxPE3CGpUHW"
      },
      "source": [
        "All variables need to be normalized to bring them onto one scale. To scale we can use standardization technique, which is subtracting mean and dividing by standard deviation.\n",
        "\n",
        "The train and test data need to be normalized based on mean and std of training dataset, as the NN parameters will be estimated based on the training dataset."
      ]
    },
    {
      "cell_type": "code",
      "execution_count": 15,
      "metadata": {
        "id": "pr5q1beppUHW"
      },
      "outputs": [],
      "source": [
        "## Calculate meand std from the training dataset\n",
        "mean = train_X.mean(axis=0)\n",
        "std = train_X.std(axis=0)\n",
        "\n",
        "## Standardizing the training dataset\n",
        "train_X -= mean\n",
        "train_X /= std\n",
        "\n",
        "## Standardizing the test dataset\n",
        "test_X -= mean\n",
        "test_X /= std"
      ]
    },
    {
      "cell_type": "markdown",
      "metadata": {
        "id": "etXWJ1anpUHX"
      },
      "source": [
        "## Build NN Model\n",
        "\n",
        "Explain:\n",
        "\n",
        "1. NN Architecture\n",
        "2. Layers and Neurons\n",
        "3. Activation Functions\n",
        "4. Loss Function\n",
        "5. Backpropagation\n",
        "6. Gradient Descent and variations of Gradient Descent\n",
        "\n",
        "### Model 1:"
      ]
    },
    {
      "cell_type": "code",
      "execution_count": 16,
      "metadata": {
        "id": "r2wLpFgOpUHX"
      },
      "outputs": [],
      "source": [
        "import tensorflow as tf\n",
        "from tensorflow import keras\n",
        "from keras import models\n",
        "from keras.layers import Dense, Activation\n",
        "from keras.optimizers import SGD"
      ]
    },
    {
      "cell_type": "code",
      "execution_count": 17,
      "metadata": {
        "colab": {
          "base_uri": "https://localhost:8080/",
          "height": 35
        },
        "id": "nWEKqc7_6GFr",
        "outputId": "16d8bc17-e199-4068-f540-226c38103cec"
      },
      "outputs": [
        {
          "output_type": "execute_result",
          "data": {
            "text/plain": [
              "'2.15.0'"
            ],
            "application/vnd.google.colaboratory.intrinsic+json": {
              "type": "string"
            }
          },
          "metadata": {},
          "execution_count": 17
        }
      ],
      "source": [
        "tf.__version__"
      ]
    },
    {
      "cell_type": "code",
      "execution_count": 18,
      "metadata": {
        "id": "3d4n_nlnpUHY"
      },
      "outputs": [],
      "source": [
        "model = models.Sequential()\n",
        "\n",
        "model.add(Dense(64, input_shape=(train_X.shape[1],)))\n",
        "\n",
        "model.add(Activation('relu'))\n",
        "\n",
        "model.add(Dense(64))\n",
        "model.add(Activation('relu'))\n",
        "\n",
        "model.add(Dense(1))"
      ]
    },
    {
      "cell_type": "code",
      "execution_count": 19,
      "metadata": {
        "colab": {
          "base_uri": "https://localhost:8080/"
        },
        "id": "qkHPv-qypUHZ",
        "outputId": "3393e065-6595-496e-d940-90538a149b6d"
      },
      "outputs": [
        {
          "output_type": "stream",
          "name": "stdout",
          "text": [
            "Model: \"sequential\"\n",
            "_________________________________________________________________\n",
            " Layer (type)                Output Shape              Param #   \n",
            "=================================================================\n",
            " dense (Dense)               (None, 64)                896       \n",
            "                                                                 \n",
            " activation (Activation)     (None, 64)                0         \n",
            "                                                                 \n",
            " dense_1 (Dense)             (None, 64)                4160      \n",
            "                                                                 \n",
            " activation_1 (Activation)   (None, 64)                0         \n",
            "                                                                 \n",
            " dense_2 (Dense)             (None, 1)                 65        \n",
            "                                                                 \n",
            "=================================================================\n",
            "Total params: 5121 (20.00 KB)\n",
            "Trainable params: 5121 (20.00 KB)\n",
            "Non-trainable params: 0 (0.00 Byte)\n",
            "_________________________________________________________________\n"
          ]
        }
      ],
      "source": [
        "model.summary()"
      ]
    },
    {
      "cell_type": "code",
      "execution_count": 20,
      "metadata": {
        "id": "RVdBtiHupUHZ"
      },
      "outputs": [],
      "source": [
        "model.compile(optimizer=\"sgd\",\n",
        "              loss='mse',\n",
        "              metrics=['mse'])"
      ]
    },
    {
      "cell_type": "markdown",
      "metadata": {
        "id": "Pr8gGaaopUHZ"
      },
      "source": [
        "**EPOCH** - an ENTIRE dataset is passed forward and backward through the neural network only ONCE.\n",
        "\n",
        "**BATCH SIZE** - Total number of training examples present in a single batch. The backpropagation algorithms updates the weights after each batch size operation.\n",
        "\n",
        "Usually the validation metrics are measured at the end of each epoch to measure progress of the learning in the neural network. (If it is underfitting or overfitting)"
      ]
    },
    {
      "cell_type": "code",
      "execution_count": 21,
      "metadata": {
        "id": "Yed0HElUpUHa"
      },
      "outputs": [],
      "source": [
        "EPOCHS = 30\n",
        "## BATCH_SIZE"
      ]
    },
    {
      "cell_type": "markdown",
      "metadata": {
        "id": "XgYu7oXIpUHa"
      },
      "source": [
        "Explain how data would be taken in batches and run multiple epochs."
      ]
    },
    {
      "cell_type": "code",
      "execution_count": 22,
      "metadata": {
        "colab": {
          "base_uri": "https://localhost:8080/"
        },
        "id": "3uKVys33pUHa",
        "outputId": "964b6833-ead7-40f5-c27e-4c161445f93a"
      },
      "outputs": [
        {
          "output_type": "stream",
          "name": "stdout",
          "text": [
            "Epoch 1/30\n",
            "9/9 [==============================] - 1s 28ms/step - loss: 318.6780 - mse: 318.6780 - val_loss: 178.2984 - val_mse: 178.2984\n",
            "Epoch 2/30\n",
            "9/9 [==============================] - 0s 8ms/step - loss: 86.0086 - mse: 86.0086 - val_loss: 393.0813 - val_mse: 393.0813\n",
            "Epoch 3/30\n",
            "9/9 [==============================] - 0s 5ms/step - loss: 396.6894 - mse: 396.6894 - val_loss: 402.8936 - val_mse: 402.8936\n",
            "Epoch 4/30\n",
            "9/9 [==============================] - 0s 8ms/step - loss: 304.0494 - mse: 304.0494 - val_loss: 287.1188 - val_mse: 287.1188\n",
            "Epoch 5/30\n",
            "9/9 [==============================] - 0s 6ms/step - loss: 319.6274 - mse: 319.6274 - val_loss: 277.3685 - val_mse: 277.3685\n",
            "Epoch 6/30\n",
            "9/9 [==============================] - 0s 6ms/step - loss: 165.0867 - mse: 165.0867 - val_loss: 33.6632 - val_mse: 33.6632\n",
            "Epoch 7/30\n",
            "9/9 [==============================] - 0s 7ms/step - loss: 178.2020 - mse: 178.2020 - val_loss: 237.7081 - val_mse: 237.7081\n",
            "Epoch 8/30\n",
            "9/9 [==============================] - 0s 7ms/step - loss: 141.2175 - mse: 141.2175 - val_loss: 22.2923 - val_mse: 22.2923\n",
            "Epoch 9/30\n",
            "9/9 [==============================] - 0s 6ms/step - loss: 43.6988 - mse: 43.6988 - val_loss: 38.6416 - val_mse: 38.6416\n",
            "Epoch 10/30\n",
            "9/9 [==============================] - 0s 8ms/step - loss: 36.5904 - mse: 36.5904 - val_loss: 165.6357 - val_mse: 165.6357\n",
            "Epoch 11/30\n",
            "9/9 [==============================] - 0s 7ms/step - loss: 189.1138 - mse: 189.1138 - val_loss: 86.9282 - val_mse: 86.9282\n",
            "Epoch 12/30\n",
            "9/9 [==============================] - 0s 6ms/step - loss: 60.0134 - mse: 60.0134 - val_loss: 89.8932 - val_mse: 89.8932\n",
            "Epoch 13/30\n",
            "9/9 [==============================] - 0s 8ms/step - loss: 40.6860 - mse: 40.6860 - val_loss: 63.9941 - val_mse: 63.9941\n",
            "Epoch 14/30\n",
            "9/9 [==============================] - 0s 7ms/step - loss: 21.2053 - mse: 21.2053 - val_loss: 80.7462 - val_mse: 80.7462\n",
            "Epoch 15/30\n",
            "9/9 [==============================] - 0s 6ms/step - loss: 20.0252 - mse: 20.0252 - val_loss: 34.1864 - val_mse: 34.1864\n",
            "Epoch 16/30\n",
            "9/9 [==============================] - 0s 8ms/step - loss: 19.2436 - mse: 19.2436 - val_loss: 23.7433 - val_mse: 23.7433\n",
            "Epoch 17/30\n",
            "9/9 [==============================] - 0s 6ms/step - loss: 19.4104 - mse: 19.4104 - val_loss: 27.9951 - val_mse: 27.9951\n",
            "Epoch 18/30\n",
            "9/9 [==============================] - 0s 8ms/step - loss: 23.8247 - mse: 23.8247 - val_loss: 35.2713 - val_mse: 35.2713\n",
            "Epoch 19/30\n",
            "9/9 [==============================] - 0s 6ms/step - loss: 13.3864 - mse: 13.3864 - val_loss: 12.0745 - val_mse: 12.0745\n",
            "Epoch 20/30\n",
            "9/9 [==============================] - 0s 8ms/step - loss: 12.3531 - mse: 12.3531 - val_loss: 207.6886 - val_mse: 207.6886\n",
            "Epoch 21/30\n",
            "9/9 [==============================] - 0s 8ms/step - loss: 131.2237 - mse: 131.2237 - val_loss: 25.9918 - val_mse: 25.9918\n",
            "Epoch 22/30\n",
            "9/9 [==============================] - 0s 6ms/step - loss: 34.7974 - mse: 34.7974 - val_loss: 19.3910 - val_mse: 19.3910\n",
            "Epoch 23/30\n",
            "9/9 [==============================] - 0s 6ms/step - loss: 26.8156 - mse: 26.8156 - val_loss: 13.7368 - val_mse: 13.7368\n",
            "Epoch 24/30\n",
            "9/9 [==============================] - 0s 6ms/step - loss: 22.0903 - mse: 22.0903 - val_loss: 14.8365 - val_mse: 14.8365\n",
            "Epoch 25/30\n",
            "9/9 [==============================] - 0s 7ms/step - loss: 14.7816 - mse: 14.7816 - val_loss: 10.0078 - val_mse: 10.0078\n",
            "Epoch 26/30\n",
            "9/9 [==============================] - 0s 7ms/step - loss: 13.0024 - mse: 13.0024 - val_loss: 10.1881 - val_mse: 10.1881\n",
            "Epoch 27/30\n",
            "9/9 [==============================] - 0s 6ms/step - loss: 12.6066 - mse: 12.6066 - val_loss: 10.5856 - val_mse: 10.5856\n",
            "Epoch 28/30\n",
            "9/9 [==============================] - 0s 8ms/step - loss: 10.8058 - mse: 10.8058 - val_loss: 10.3232 - val_mse: 10.3232\n",
            "Epoch 29/30\n",
            "9/9 [==============================] - 0s 6ms/step - loss: 10.5114 - mse: 10.5114 - val_loss: 16.1703 - val_mse: 16.1703\n",
            "Epoch 30/30\n",
            "9/9 [==============================] - 0s 6ms/step - loss: 10.1523 - mse: 10.1523 - val_loss: 9.8991 - val_mse: 9.8991\n",
            "CPU times: user 2.49 s, sys: 114 ms, total: 2.6 s\n",
            "Wall time: 3.2 s\n"
          ]
        }
      ],
      "source": [
        "%%time\n",
        "history = model.fit(\n",
        "    train_X,\n",
        "    train_y,  # prepared data\n",
        "    epochs=EPOCHS,\n",
        "    validation_data=(test_X, test_y),\n",
        "    verbose=1\n",
        ")"
      ]
    },
    {
      "cell_type": "code",
      "execution_count": 25,
      "metadata": {
        "id": "4bkbWFx9pUHa"
      },
      "outputs": [],
      "source": [
        "from sklearn.metrics import mean_squared_error\n",
        "import matplotlib.pyplot as plt\n",
        "import seaborn as sn\n",
        "%matplotlib inline"
      ]
    },
    {
      "cell_type": "code",
      "execution_count": 26,
      "metadata": {
        "colab": {
          "base_uri": "https://localhost:8080/"
        },
        "id": "QU8ookqRpUHb",
        "outputId": "e5fce63f-3d21-4500-e352-174dedb3eb1d"
      },
      "outputs": [
        {
          "output_type": "execute_result",
          "data": {
            "text/plain": [
              "dict_keys(['loss', 'mse', 'val_loss', 'val_mse'])"
            ]
          },
          "metadata": {},
          "execution_count": 26
        }
      ],
      "source": [
        "history.history.keys()"
      ]
    },
    {
      "cell_type": "code",
      "execution_count": 27,
      "metadata": {
        "id": "E7e6qaY2pUHb"
      },
      "outputs": [],
      "source": [
        "def plot_mse(hist):\n",
        "    plt.plot(hist['mse'])\n",
        "    plt.plot(hist['val_mse'])\n",
        "    plt.title('MSE')\n",
        "    plt.ylabel('mse')\n",
        "    plt.xlabel('epoch')\n",
        "    plt.legend(['train',\n",
        "                'test'],\n",
        "               loc='upper left')\n",
        "    plt.show()\n",
        "\n",
        "def plot_loss(hist):\n",
        "    plt.plot(hist['loss'])\n",
        "    plt.plot(hist['val_loss'])\n",
        "    plt.title('model loss')\n",
        "    plt.ylabel('loss')\n",
        "    plt.xlabel('epoch')\n",
        "    plt.legend(['train',\n",
        "                'test'],\n",
        "               loc='upper left')\n",
        "    plt.show()"
      ]
    },
    {
      "cell_type": "code",
      "execution_count": 28,
      "metadata": {
        "colab": {
          "base_uri": "https://localhost:8080/",
          "height": 927
        },
        "id": "_EeDfqR0pUHc",
        "outputId": "69eb668d-47e0-41aa-938c-cde3520d1743"
      },
      "outputs": [
        {
          "output_type": "display_data",
          "data": {
            "text/plain": [
              "<Figure size 640x480 with 1 Axes>"
            ],
            "image/png": "[encoded data removed]"
          },
          "metadata": {}
        },
        {
          "output_type": "display_data",
          "data": {
            "text/plain": [
              "<Figure size 640x480 with 1 Axes>"
            ],
            "image/png": "[encoded data removed]"
          },
          "metadata": {}
        }
      ],
      "source": [
        "plot_mse(history.history)\n",
        "plot_loss(history.history)"
      ]
    },
    {
      "cell_type": "markdown",
      "metadata": {
        "id": "-2NJl6h7pUHc"
      },
      "source": [
        "The loss is diverging. The learning rate is high.\n",
        "\n",
        "- Explain learning Rate"
      ]
    },
    {
      "cell_type": "markdown",
      "source": [],
      "metadata": {
        "id": "oup2nbB3y2Y1"
      }
    },
    {
      "cell_type": "markdown",
      "metadata": {
        "id": "O_UOKX8xpUHc"
      },
      "source": [
        "### Model 2: With Lower Learning Rate"
      ]
    },
    {
      "cell_type": "code",
      "execution_count": 29,
      "metadata": {
        "id": "wH6j6a4ZpUHc"
      },
      "outputs": [],
      "source": [
        "tf.keras.backend.clear_session()\n",
        "\n",
        "model = models.Sequential()\n",
        "\n",
        "model.add(Dense(64, input_shape=(train_X.shape[1],)))\n",
        "\n",
        "model.add(Activation('relu'))\n",
        "\n",
        "model.add(Dense(64))\n",
        "model.add(Activation('relu'))\n",
        "\n",
        "model.add(Dense(1))"
      ]
    },
    {
      "cell_type": "code",
      "execution_count": 30,
      "metadata": {
        "id": "bfIb_9QlpUHd"
      },
      "outputs": [],
      "source": [
        "sgd = SGD(learning_rate=0.001)\n",
        "model.compile(optimizer=sgd, loss='mse', metrics=['mse'])"
      ]
    },
    {
      "cell_type": "code",
      "execution_count": 31,
      "metadata": {
        "colab": {
          "base_uri": "https://localhost:8080/"
        },
        "id": "5bD_nqcTpUHd",
        "outputId": "53620f73-fe3e-439b-bdc6-c366fff3d36e"
      },
      "outputs": [
        {
          "output_type": "stream",
          "name": "stdout",
          "text": [
            "Epoch 1/100\n",
            "9/9 [==============================] - 1s 24ms/step - loss: 528.1963 - mse: 528.1963 - val_loss: 329.6320 - val_mse: 329.6320\n",
            "Epoch 2/100\n",
            "9/9 [==============================] - 0s 6ms/step - loss: 200.9188 - mse: 200.9188 - val_loss: 51.7852 - val_mse: 51.7852\n",
            "Epoch 3/100\n",
            "9/9 [==============================] - 0s 6ms/step - loss: 62.7187 - mse: 62.7187 - val_loss: 26.7712 - val_mse: 26.7712\n",
            "Epoch 4/100\n",
            "9/9 [==============================] - 0s 6ms/step - loss: 41.7165 - mse: 41.7165 - val_loss: 19.1885 - val_mse: 19.1885\n",
            "Epoch 5/100\n",
            "9/9 [==============================] - 0s 8ms/step - loss: 33.0219 - mse: 33.0219 - val_loss: 17.4069 - val_mse: 17.4069\n",
            "Epoch 6/100\n",
            "9/9 [==============================] - 0s 6ms/step - loss: 27.9523 - mse: 27.9523 - val_loss: 17.9657 - val_mse: 17.9657\n",
            "Epoch 7/100\n",
            "9/9 [==============================] - 0s 7ms/step - loss: 23.7841 - mse: 23.7841 - val_loss: 16.9275 - val_mse: 16.9275\n",
            "Epoch 8/100\n",
            "9/9 [==============================] - 0s 6ms/step - loss: 21.8673 - mse: 21.8673 - val_loss: 15.9045 - val_mse: 15.9045\n",
            "Epoch 9/100\n",
            "9/9 [==============================] - 0s 9ms/step - loss: 19.7944 - mse: 19.7944 - val_loss: 15.6902 - val_mse: 15.6902\n",
            "Epoch 10/100\n",
            "9/9 [==============================] - 0s 6ms/step - loss: 18.7570 - mse: 18.7570 - val_loss: 15.3131 - val_mse: 15.3131\n",
            "Epoch 11/100\n",
            "9/9 [==============================] - 0s 6ms/step - loss: 17.3471 - mse: 17.3471 - val_loss: 16.1357 - val_mse: 16.1357\n",
            "Epoch 12/100\n",
            "9/9 [==============================] - 0s 9ms/step - loss: 16.5921 - mse: 16.5921 - val_loss: 15.7966 - val_mse: 15.7966\n",
            "Epoch 13/100\n",
            "9/9 [==============================] - 0s 9ms/step - loss: 15.8250 - mse: 15.8250 - val_loss: 14.7194 - val_mse: 14.7194\n",
            "Epoch 14/100\n",
            "9/9 [==============================] - 0s 6ms/step - loss: 14.9936 - mse: 14.9936 - val_loss: 14.2010 - val_mse: 14.2010\n",
            "Epoch 15/100\n",
            "9/9 [==============================] - 0s 7ms/step - loss: 14.5900 - mse: 14.5900 - val_loss: 15.0094 - val_mse: 15.0094\n",
            "Epoch 16/100\n",
            "9/9 [==============================] - 0s 6ms/step - loss: 14.0875 - mse: 14.0875 - val_loss: 17.3363 - val_mse: 17.3363\n",
            "Epoch 17/100\n",
            "9/9 [==============================] - 0s 8ms/step - loss: 14.1287 - mse: 14.1287 - val_loss: 15.8066 - val_mse: 15.8066\n",
            "Epoch 18/100\n",
            "9/9 [==============================] - 0s 8ms/step - loss: 13.4597 - mse: 13.4597 - val_loss: 13.5936 - val_mse: 13.5936\n",
            "Epoch 19/100\n",
            "9/9 [==============================] - 0s 8ms/step - loss: 13.1930 - mse: 13.1930 - val_loss: 12.2623 - val_mse: 12.2623\n",
            "Epoch 20/100\n",
            "9/9 [==============================] - 0s 8ms/step - loss: 13.0001 - mse: 13.0001 - val_loss: 19.7374 - val_mse: 19.7374\n",
            "Epoch 21/100\n",
            "9/9 [==============================] - 0s 6ms/step - loss: 12.6991 - mse: 12.6991 - val_loss: 13.4737 - val_mse: 13.4737\n",
            "Epoch 22/100\n",
            "9/9 [==============================] - 0s 8ms/step - loss: 12.4389 - mse: 12.4389 - val_loss: 13.6730 - val_mse: 13.6730\n",
            "Epoch 23/100\n",
            "9/9 [==============================] - 0s 7ms/step - loss: 12.1550 - mse: 12.1550 - val_loss: 13.7785 - val_mse: 13.7785\n",
            "Epoch 24/100\n",
            "9/9 [==============================] - 0s 8ms/step - loss: 11.5033 - mse: 11.5033 - val_loss: 15.1331 - val_mse: 15.1331\n",
            "Epoch 25/100\n",
            "9/9 [==============================] - 0s 7ms/step - loss: 11.3564 - mse: 11.3564 - val_loss: 14.3639 - val_mse: 14.3639\n",
            "Epoch 26/100\n",
            "9/9 [==============================] - 0s 8ms/step - loss: 11.5219 - mse: 11.5219 - val_loss: 14.1214 - val_mse: 14.1214\n",
            "Epoch 27/100\n",
            "9/9 [==============================] - 0s 5ms/step - loss: 11.0430 - mse: 11.0430 - val_loss: 12.1615 - val_mse: 12.1615\n",
            "Epoch 28/100\n",
            "9/9 [==============================] - 0s 7ms/step - loss: 11.1102 - mse: 11.1102 - val_loss: 12.3878 - val_mse: 12.3878\n",
            "Epoch 29/100\n",
            "9/9 [==============================] - 0s 6ms/step - loss: 10.8442 - mse: 10.8442 - val_loss: 12.3221 - val_mse: 12.3221\n",
            "Epoch 30/100\n",
            "9/9 [==============================] - 0s 8ms/step - loss: 10.7399 - mse: 10.7399 - val_loss: 12.9008 - val_mse: 12.9008\n",
            "Epoch 31/100\n",
            "9/9 [==============================] - 0s 7ms/step - loss: 10.4685 - mse: 10.4685 - val_loss: 11.9428 - val_mse: 11.9428\n",
            "Epoch 32/100\n",
            "9/9 [==============================] - 0s 7ms/step - loss: 10.4488 - mse: 10.4488 - val_loss: 15.5508 - val_mse: 15.5508\n",
            "Epoch 33/100\n",
            "9/9 [==============================] - 0s 8ms/step - loss: 10.4632 - mse: 10.4632 - val_loss: 12.3559 - val_mse: 12.3559\n",
            "Epoch 34/100\n",
            "9/9 [==============================] - 0s 7ms/step - loss: 10.1770 - mse: 10.1770 - val_loss: 13.7280 - val_mse: 13.7280\n",
            "Epoch 35/100\n",
            "9/9 [==============================] - 0s 6ms/step - loss: 10.5657 - mse: 10.5657 - val_loss: 12.3277 - val_mse: 12.3277\n",
            "Epoch 36/100\n",
            "9/9 [==============================] - 0s 7ms/step - loss: 10.0085 - mse: 10.0085 - val_loss: 11.2358 - val_mse: 11.2358\n",
            "Epoch 37/100\n",
            "9/9 [==============================] - 0s 6ms/step - loss: 10.2110 - mse: 10.2110 - val_loss: 11.9712 - val_mse: 11.9712\n",
            "Epoch 38/100\n",
            "9/9 [==============================] - 0s 8ms/step - loss: 9.9918 - mse: 9.9918 - val_loss: 12.3740 - val_mse: 12.3740\n",
            "Epoch 39/100\n",
            "9/9 [==============================] - 0s 6ms/step - loss: 10.3149 - mse: 10.3149 - val_loss: 13.2015 - val_mse: 13.2015\n",
            "Epoch 40/100\n",
            "9/9 [==============================] - 0s 6ms/step - loss: 9.9520 - mse: 9.9520 - val_loss: 11.5801 - val_mse: 11.5801\n",
            "Epoch 41/100\n",
            "9/9 [==============================] - 0s 6ms/step - loss: 9.7577 - mse: 9.7577 - val_loss: 14.3176 - val_mse: 14.3176\n",
            "Epoch 42/100\n",
            "9/9 [==============================] - 0s 8ms/step - loss: 9.8939 - mse: 9.8939 - val_loss: 14.5133 - val_mse: 14.5133\n",
            "Epoch 43/100\n",
            "9/9 [==============================] - 0s 6ms/step - loss: 10.0088 - mse: 10.0088 - val_loss: 12.2377 - val_mse: 12.2377\n",
            "Epoch 44/100\n",
            "9/9 [==============================] - 0s 9ms/step - loss: 9.5944 - mse: 9.5944 - val_loss: 11.6877 - val_mse: 11.6877\n",
            "Epoch 45/100\n",
            "9/9 [==============================] - 0s 8ms/step - loss: 9.3499 - mse: 9.3499 - val_loss: 12.5901 - val_mse: 12.5901\n",
            "Epoch 46/100\n",
            "9/9 [==============================] - 0s 8ms/step - loss: 9.3098 - mse: 9.3098 - val_loss: 11.7806 - val_mse: 11.7806\n",
            "Epoch 47/100\n",
            "9/9 [==============================] - 0s 6ms/step - loss: 9.2129 - mse: 9.2129 - val_loss: 11.0087 - val_mse: 11.0087\n",
            "Epoch 48/100\n",
            "9/9 [==============================] - 0s 8ms/step - loss: 9.3008 - mse: 9.3008 - val_loss: 12.7402 - val_mse: 12.7402\n",
            "Epoch 49/100\n",
            "9/9 [==============================] - 0s 8ms/step - loss: 9.1618 - mse: 9.1618 - val_loss: 11.3944 - val_mse: 11.3944\n",
            "Epoch 50/100\n",
            "9/9 [==============================] - 0s 6ms/step - loss: 9.1840 - mse: 9.1840 - val_loss: 11.5923 - val_mse: 11.5923\n",
            "Epoch 51/100\n",
            "9/9 [==============================] - 0s 8ms/step - loss: 9.2634 - mse: 9.2634 - val_loss: 10.7221 - val_mse: 10.7221\n",
            "Epoch 52/100\n",
            "9/9 [==============================] - 0s 8ms/step - loss: 9.0683 - mse: 9.0683 - val_loss: 11.3228 - val_mse: 11.3228\n",
            "Epoch 53/100\n",
            "9/9 [==============================] - 0s 8ms/step - loss: 9.0929 - mse: 9.0929 - val_loss: 10.9838 - val_mse: 10.9838\n",
            "Epoch 54/100\n",
            "9/9 [==============================] - 0s 6ms/step - loss: 8.8377 - mse: 8.8377 - val_loss: 11.3320 - val_mse: 11.3320\n",
            "Epoch 55/100\n",
            "9/9 [==============================] - 0s 8ms/step - loss: 9.0778 - mse: 9.0778 - val_loss: 11.6055 - val_mse: 11.6055\n",
            "Epoch 56/100\n",
            "9/9 [==============================] - 0s 6ms/step - loss: 9.1188 - mse: 9.1188 - val_loss: 10.5752 - val_mse: 10.5752\n",
            "Epoch 57/100\n",
            "9/9 [==============================] - 0s 6ms/step - loss: 8.9207 - mse: 8.9207 - val_loss: 11.5012 - val_mse: 11.5012\n",
            "Epoch 58/100\n",
            "9/9 [==============================] - 0s 8ms/step - loss: 8.8175 - mse: 8.8175 - val_loss: 10.0130 - val_mse: 10.0130\n",
            "Epoch 59/100\n",
            "9/9 [==============================] - 0s 10ms/step - loss: 8.6658 - mse: 8.6658 - val_loss: 16.1541 - val_mse: 16.1541\n",
            "Epoch 60/100\n",
            "9/9 [==============================] - 0s 6ms/step - loss: 9.2092 - mse: 9.2092 - val_loss: 11.2022 - val_mse: 11.2022\n",
            "Epoch 61/100\n",
            "9/9 [==============================] - 0s 8ms/step - loss: 8.6585 - mse: 8.6585 - val_loss: 10.8254 - val_mse: 10.8254\n",
            "Epoch 62/100\n",
            "9/9 [==============================] - 0s 6ms/step - loss: 8.7725 - mse: 8.7725 - val_loss: 10.0173 - val_mse: 10.0173\n",
            "Epoch 63/100\n",
            "9/9 [==============================] - 0s 6ms/step - loss: 8.7449 - mse: 8.7449 - val_loss: 12.0103 - val_mse: 12.0103\n",
            "Epoch 64/100\n",
            "9/9 [==============================] - 0s 6ms/step - loss: 8.7096 - mse: 8.7096 - val_loss: 11.9663 - val_mse: 11.9663\n",
            "Epoch 65/100\n",
            "9/9 [==============================] - 0s 8ms/step - loss: 8.5384 - mse: 8.5384 - val_loss: 11.5546 - val_mse: 11.5546\n",
            "Epoch 66/100\n",
            "9/9 [==============================] - 0s 8ms/step - loss: 8.5084 - mse: 8.5084 - val_loss: 11.7904 - val_mse: 11.7904\n",
            "Epoch 67/100\n",
            "9/9 [==============================] - 0s 6ms/step - loss: 8.4759 - mse: 8.4759 - val_loss: 10.5456 - val_mse: 10.5456\n",
            "Epoch 68/100\n",
            "9/9 [==============================] - 0s 7ms/step - loss: 8.5902 - mse: 8.5902 - val_loss: 10.9749 - val_mse: 10.9749\n",
            "Epoch 69/100\n",
            "9/9 [==============================] - 0s 10ms/step - loss: 8.4145 - mse: 8.4145 - val_loss: 10.9530 - val_mse: 10.9530\n",
            "Epoch 70/100\n",
            "9/9 [==============================] - 0s 12ms/step - loss: 8.5588 - mse: 8.5588 - val_loss: 11.6013 - val_mse: 11.6013\n",
            "Epoch 71/100\n",
            "9/9 [==============================] - 0s 8ms/step - loss: 8.2759 - mse: 8.2759 - val_loss: 12.9357 - val_mse: 12.9357\n",
            "Epoch 72/100\n",
            "9/9 [==============================] - 0s 9ms/step - loss: 8.1628 - mse: 8.1628 - val_loss: 10.2206 - val_mse: 10.2206\n",
            "Epoch 73/100\n",
            "9/9 [==============================] - 0s 10ms/step - loss: 8.1937 - mse: 8.1937 - val_loss: 9.2773 - val_mse: 9.2773\n",
            "Epoch 74/100\n",
            "9/9 [==============================] - 0s 10ms/step - loss: 8.0849 - mse: 8.0849 - val_loss: 10.8442 - val_mse: 10.8442\n",
            "Epoch 75/100\n",
            "9/9 [==============================] - 0s 8ms/step - loss: 8.1969 - mse: 8.1969 - val_loss: 10.8760 - val_mse: 10.8760\n",
            "Epoch 76/100\n",
            "9/9 [==============================] - 0s 10ms/step - loss: 8.2523 - mse: 8.2523 - val_loss: 11.1977 - val_mse: 11.1977\n",
            "Epoch 77/100\n",
            "9/9 [==============================] - 0s 10ms/step - loss: 8.2976 - mse: 8.2976 - val_loss: 13.9795 - val_mse: 13.9795\n",
            "Epoch 78/100\n",
            "9/9 [==============================] - 0s 10ms/step - loss: 8.1609 - mse: 8.1609 - val_loss: 15.5770 - val_mse: 15.5770\n",
            "Epoch 79/100\n",
            "9/9 [==============================] - 0s 10ms/step - loss: 8.6756 - mse: 8.6756 - val_loss: 13.8080 - val_mse: 13.8080\n",
            "Epoch 80/100\n",
            "9/9 [==============================] - 0s 11ms/step - loss: 8.1794 - mse: 8.1794 - val_loss: 11.3654 - val_mse: 11.3654\n",
            "Epoch 81/100\n",
            "9/9 [==============================] - 0s 10ms/step - loss: 7.9213 - mse: 7.9213 - val_loss: 11.6757 - val_mse: 11.6757\n",
            "Epoch 82/100\n",
            "9/9 [==============================] - 0s 8ms/step - loss: 7.9894 - mse: 7.9894 - val_loss: 10.8581 - val_mse: 10.8581\n",
            "Epoch 83/100\n",
            "9/9 [==============================] - 0s 10ms/step - loss: 8.0235 - mse: 8.0235 - val_loss: 15.3458 - val_mse: 15.3458\n",
            "Epoch 84/100\n",
            "9/9 [==============================] - 0s 10ms/step - loss: 8.4648 - mse: 8.4648 - val_loss: 9.5740 - val_mse: 9.5740\n",
            "Epoch 85/100\n",
            "9/9 [==============================] - 0s 10ms/step - loss: 8.0171 - mse: 8.0171 - val_loss: 9.8182 - val_mse: 9.8182\n",
            "Epoch 86/100\n",
            "9/9 [==============================] - 0s 9ms/step - loss: 7.8959 - mse: 7.8959 - val_loss: 10.7216 - val_mse: 10.7216\n",
            "Epoch 87/100\n",
            "9/9 [==============================] - 0s 10ms/step - loss: 7.7401 - mse: 7.7401 - val_loss: 9.8635 - val_mse: 9.8635\n",
            "Epoch 88/100\n",
            "9/9 [==============================] - 0s 10ms/step - loss: 7.9593 - mse: 7.9593 - val_loss: 11.0739 - val_mse: 11.0739\n",
            "Epoch 89/100\n",
            "9/9 [==============================] - 0s 10ms/step - loss: 7.7329 - mse: 7.7329 - val_loss: 12.2395 - val_mse: 12.2395\n",
            "Epoch 90/100\n",
            "9/9 [==============================] - 0s 10ms/step - loss: 7.8549 - mse: 7.8549 - val_loss: 10.3922 - val_mse: 10.3922\n",
            "Epoch 91/100\n",
            "9/9 [==============================] - 0s 8ms/step - loss: 7.7730 - mse: 7.7730 - val_loss: 14.5714 - val_mse: 14.5714\n",
            "Epoch 92/100\n",
            "9/9 [==============================] - 0s 8ms/step - loss: 7.9559 - mse: 7.9559 - val_loss: 12.9914 - val_mse: 12.9914\n",
            "Epoch 93/100\n",
            "9/9 [==============================] - 0s 9ms/step - loss: 7.5871 - mse: 7.5871 - val_loss: 11.3825 - val_mse: 11.3825\n",
            "Epoch 94/100\n",
            "9/9 [==============================] - 0s 10ms/step - loss: 7.8113 - mse: 7.8113 - val_loss: 12.7445 - val_mse: 12.7445\n",
            "Epoch 95/100\n",
            "9/9 [==============================] - 0s 10ms/step - loss: 7.6068 - mse: 7.6068 - val_loss: 15.6233 - val_mse: 15.6233\n",
            "Epoch 96/100\n",
            "9/9 [==============================] - 0s 8ms/step - loss: 7.8660 - mse: 7.8660 - val_loss: 10.8095 - val_mse: 10.8095\n",
            "Epoch 97/100\n",
            "9/9 [==============================] - 0s 9ms/step - loss: 7.5409 - mse: 7.5409 - val_loss: 11.3462 - val_mse: 11.3462\n",
            "Epoch 98/100\n",
            "9/9 [==============================] - 0s 12ms/step - loss: 7.6876 - mse: 7.6876 - val_loss: 10.2639 - val_mse: 10.2639\n",
            "Epoch 99/100\n",
            "9/9 [==============================] - 0s 10ms/step - loss: 7.6983 - mse: 7.6983 - val_loss: 12.6823 - val_mse: 12.6823\n",
            "Epoch 100/100\n",
            "9/9 [==============================] - 0s 10ms/step - loss: 7.5490 - mse: 7.5490 - val_loss: 12.0576 - val_mse: 12.0576\n",
            "CPU times: user 6.95 s, sys: 279 ms, total: 7.23 s\n",
            "Wall time: 7.96 s\n"
          ]
        }
      ],
      "source": [
        "%%time\n",
        "\n",
        "EPOCHS = 100\n",
        "\n",
        "history = model.fit(\n",
        "    train_X,\n",
        "    train_y,  # prepared data\n",
        "    epochs=EPOCHS,\n",
        "    validation_data=(test_X, test_y),\n",
        ")"
      ]
    },
    {
      "cell_type": "code",
      "execution_count": 32,
      "metadata": {
        "colab": {
          "base_uri": "https://localhost:8080/",
          "height": 927
        },
        "id": "QwzsV84wpUHd",
        "outputId": "867743b6-f6f5-4505-de2d-03d69078b1cb"
      },
      "outputs": [
        {
          "output_type": "display_data",
          "data": {
            "text/plain": [
              "<Figure size 640x480 with 1 Axes>"
            ],
            "image/png": "[encoded data removed]"
          },
          "metadata": {}
        },
        {
          "output_type": "display_data",
          "data": {
            "text/plain": [
              "<Figure size 640x480 with 1 Axes>"
            ],
            "image/png": "[encoded data removed]"
          },
          "metadata": {}
        }
      ],
      "source": [
        "plot_mse(history.history)\n",
        "plot_loss(history.history)"
      ]
    },
    {
      "cell_type": "markdown",
      "metadata": {
        "id": "ZXsoRQglJUGF"
      },
      "source": [
        "## Participant Exercise: 1\n",
        "\n",
        "1. Change the activation functions to a) sigmoid and b) tanh and build the model\n",
        "2. Add more neurons to the model\n",
        "3. Add model layers to the model\n",
        "\n",
        "Print the model summary and validation loss from the last epoch."
      ]
    },
    {
      "cell_type": "markdown",
      "metadata": {
        "id": "s1gizujApUHf"
      },
      "source": [
        "### Model Prediction and Measure Accuracy"
      ]
    },
    {
      "cell_type": "code",
      "execution_count": 33,
      "metadata": {
        "colab": {
          "base_uri": "https://localhost:8080/"
        },
        "id": "f_ZVtWlrpUHf",
        "outputId": "e3ca36d9-5d82-480a-ec05-b8d36468ff7e"
      },
      "outputs": [
        {
          "output_type": "stream",
          "name": "stdout",
          "text": [
            "3/3 [==============================] - 0s 3ms/step\n"
          ]
        }
      ],
      "source": [
        "pred_y = model.predict(test_X)"
      ]
    },
    {
      "cell_type": "code",
      "source": [
        "from sklearn import metrics"
      ],
      "metadata": {
        "id": "krFS6Fl72U7e"
      },
      "execution_count": 34,
      "outputs": []
    },
    {
      "cell_type": "code",
      "execution_count": 35,
      "metadata": {
        "colab": {
          "base_uri": "https://localhost:8080/"
        },
        "id": "39q6b1XxpUHf",
        "outputId": "99695fd1-c82d-49a2-fe86-5b6ed1a3bfd4"
      },
      "outputs": [
        {
          "output_type": "execute_result",
          "data": {
            "text/plain": [
              "3.4723994494434707"
            ]
          },
          "metadata": {},
          "execution_count": 35
        }
      ],
      "source": [
        "np.sqrt(metrics.mean_squared_error( test_y, pred_y ))"
      ]
    },
    {
      "cell_type": "markdown",
      "metadata": {
        "id": "678Ovr34eOqY"
      },
      "source": [
        "## Using Callbacks"
      ]
    },
    {
      "cell_type": "code",
      "execution_count": 36,
      "metadata": {
        "id": "43SAEh5Reddo"
      },
      "outputs": [],
      "source": [
        "from keras.callbacks import ReduceLROnPlateau, EarlyStopping, ModelCheckpoint"
      ]
    },
    {
      "cell_type": "code",
      "execution_count": 37,
      "metadata": {
        "id": "s6rb8aOgyfwK"
      },
      "outputs": [],
      "source": [
        "callbacks_list = [ReduceLROnPlateau(monitor='val_loss',\n",
        "                                    factor=0.1,\n",
        "                                    patience=3),\n",
        "                  EarlyStopping(monitor='val_loss',\n",
        "                                patience=6),\n",
        "                  ModelCheckpoint(filepath='boston_house_model.h5',\n",
        "                                  save_format='tf',\n",
        "                                  monitor='val_loss',\n",
        "                                  save_best_only=True)]"
      ]
    },
    {
      "cell_type": "code",
      "execution_count": 38,
      "metadata": {
        "id": "pjCVdHZ3eQW5"
      },
      "outputs": [],
      "source": [
        "tf.keras.backend.clear_session()\n",
        "\n",
        "model = models.Sequential()\n",
        "\n",
        "model.add(Dense(64, input_shape=(train_X.shape[1],)))\n",
        "\n",
        "model.add(Activation('relu'))\n",
        "\n",
        "model.add(Dense(64))\n",
        "model.add(Activation('relu'))\n",
        "\n",
        "model.add(Dense(1))"
      ]
    },
    {
      "cell_type": "code",
      "execution_count": 39,
      "metadata": {
        "id": "NJEHYtkPeVqJ"
      },
      "outputs": [],
      "source": [
        "sgd = SGD(learning_rate=0.005)\n",
        "model.compile(optimizer=sgd, loss='mse', metrics=['mse'])"
      ]
    },
    {
      "cell_type": "code",
      "execution_count": 40,
      "metadata": {
        "colab": {
          "base_uri": "https://localhost:8080/"
        },
        "id": "WVS7Xp-deYwB",
        "outputId": "4a2a7ca5-30dd-45bb-df81-a2263fadb2c5"
      },
      "outputs": [
        {
          "output_type": "stream",
          "name": "stdout",
          "text": [
            "Epoch 1/100\n",
            "9/9 [==============================] - 1s 28ms/step - loss: 287.0571 - mse: 287.0571 - val_loss: 58.5840 - val_mse: 58.5840 - lr: 0.0050\n",
            "Epoch 2/100\n",
            "9/9 [==============================] - 0s 7ms/step - loss: 80.1732 - mse: 80.1732 - val_loss: 94.6206 - val_mse: 94.6206 - lr: 0.0050\n",
            "Epoch 3/100\n",
            "9/9 [==============================] - 0s 7ms/step - loss: 35.5474 - mse: 35.5474 - val_loss: 13.7087 - val_mse: 13.7087 - lr: 0.0050\n",
            "Epoch 4/100\n",
            "9/9 [==============================] - 0s 10ms/step - loss: 27.1009 - mse: 27.1009 - val_loss: 12.9595 - val_mse: 12.9595 - lr: 0.0050\n",
            "Epoch 5/100\n",
            "9/9 [==============================] - 0s 7ms/step - loss: 31.4995 - mse: 31.4995 - val_loss: 12.6134 - val_mse: 12.6134 - lr: 0.0050\n",
            "Epoch 6/100\n",
            "9/9 [==============================] - 0s 8ms/step - loss: 16.1457 - mse: 16.1457 - val_loss: 20.3466 - val_mse: 20.3466 - lr: 0.0050\n",
            "Epoch 7/100\n",
            "9/9 [==============================] - 0s 9ms/step - loss: 13.3543 - mse: 13.3543 - val_loss: 19.0458 - val_mse: 19.0458 - lr: 0.0050\n",
            "Epoch 8/100\n",
            "9/9 [==============================] - 0s 10ms/step - loss: 19.4522 - mse: 19.4522 - val_loss: 22.8363 - val_mse: 22.8363 - lr: 0.0050\n",
            "Epoch 9/100\n",
            "9/9 [==============================] - 0s 8ms/step - loss: 18.0546 - mse: 18.0546 - val_loss: 12.8072 - val_mse: 12.8072 - lr: 5.0000e-04\n",
            "Epoch 10/100\n",
            "9/9 [==============================] - 0s 12ms/step - loss: 10.7069 - mse: 10.7069 - val_loss: 12.3997 - val_mse: 12.3997 - lr: 5.0000e-04\n",
            "Epoch 11/100\n",
            "9/9 [==============================] - 0s 10ms/step - loss: 10.1766 - mse: 10.1766 - val_loss: 11.8355 - val_mse: 11.8355 - lr: 5.0000e-04\n",
            "Epoch 12/100\n",
            "9/9 [==============================] - 0s 8ms/step - loss: 9.9677 - mse: 9.9677 - val_loss: 12.4732 - val_mse: 12.4732 - lr: 5.0000e-04\n",
            "Epoch 13/100\n",
            "9/9 [==============================] - 0s 10ms/step - loss: 9.7893 - mse: 9.7893 - val_loss: 12.1212 - val_mse: 12.1212 - lr: 5.0000e-04\n",
            "Epoch 14/100\n",
            "9/9 [==============================] - 0s 11ms/step - loss: 9.5677 - mse: 9.5677 - val_loss: 11.4225 - val_mse: 11.4225 - lr: 5.0000e-04\n",
            "Epoch 15/100\n",
            "9/9 [==============================] - 0s 8ms/step - loss: 9.6184 - mse: 9.6184 - val_loss: 11.7579 - val_mse: 11.7579 - lr: 5.0000e-04\n",
            "Epoch 16/100\n",
            "9/9 [==============================] - 0s 8ms/step - loss: 9.4742 - mse: 9.4742 - val_loss: 11.6917 - val_mse: 11.6917 - lr: 5.0000e-04\n",
            "Epoch 17/100\n",
            "9/9 [==============================] - 0s 11ms/step - loss: 9.4087 - mse: 9.4087 - val_loss: 11.4142 - val_mse: 11.4142 - lr: 5.0000e-04\n",
            "Epoch 18/100\n",
            "9/9 [==============================] - 0s 8ms/step - loss: 9.4729 - mse: 9.4729 - val_loss: 11.8897 - val_mse: 11.8897 - lr: 5.0000e-04\n",
            "Epoch 19/100\n",
            "9/9 [==============================] - 0s 8ms/step - loss: 9.2875 - mse: 9.2875 - val_loss: 12.0732 - val_mse: 12.0732 - lr: 5.0000e-04\n",
            "Epoch 20/100\n",
            "9/9 [==============================] - 0s 11ms/step - loss: 9.3091 - mse: 9.3091 - val_loss: 12.0543 - val_mse: 12.0543 - lr: 5.0000e-04\n",
            "Epoch 21/100\n",
            "9/9 [==============================] - 0s 8ms/step - loss: 9.0618 - mse: 9.0618 - val_loss: 11.9790 - val_mse: 11.9790 - lr: 5.0000e-05\n",
            "Epoch 22/100\n",
            "9/9 [==============================] - 0s 10ms/step - loss: 9.0566 - mse: 9.0566 - val_loss: 11.9707 - val_mse: 11.9707 - lr: 5.0000e-05\n",
            "Epoch 23/100\n",
            "9/9 [==============================] - 0s 10ms/step - loss: 9.0509 - mse: 9.0509 - val_loss: 12.0569 - val_mse: 12.0569 - lr: 5.0000e-05\n",
            "CPU times: user 2.37 s, sys: 59.5 ms, total: 2.43 s\n",
            "Wall time: 2.6 s\n"
          ]
        }
      ],
      "source": [
        "%%time\n",
        "\n",
        "EPOCHS = 100\n",
        "\n",
        "history = model.fit(\n",
        "    train_X,\n",
        "    train_y,  # prepared data\n",
        "    epochs=EPOCHS,\n",
        "    callbacks = callbacks_list,\n",
        "    validation_data=(test_X, test_y),\n",
        ")"
      ]
    },
    {
      "cell_type": "code",
      "execution_count": 41,
      "metadata": {
        "colab": {
          "base_uri": "https://localhost:8080/",
          "height": 927
        },
        "id": "68lglgiCe8BY",
        "outputId": "7046dd83-a50a-4ef4-8adc-e3591e4abc98"
      },
      "outputs": [
        {
          "output_type": "display_data",
          "data": {
            "text/plain": [
              "<Figure size 640x480 with 1 Axes>"
            ],
            "image/png": "[encoded data removed]"
          },
          "metadata": {}
        },
        {
          "output_type": "display_data",
          "data": {
            "text/plain": [
              "<Figure size 640x480 with 1 Axes>"
            ],
            "image/png": "[encoded data removed]"
          },
          "metadata": {}
        }
      ],
      "source": [
        "plot_mse(history.history)\n",
        "plot_loss(history.history)"
      ]
    },
    {
      "cell_type": "markdown",
      "metadata": {
        "id": "cvIuMH8Todff"
      },
      "source": [
        "### Saving the model"
      ]
    },
    {
      "cell_type": "code",
      "execution_count": 42,
      "metadata": {
        "id": "beg2WWd5odff"
      },
      "outputs": [],
      "source": [
        "model.save('boston_house_model.h5')"
      ]
    },
    {
      "cell_type": "markdown",
      "metadata": {
        "id": "gxhuWOVFfb2u"
      },
      "source": [
        "## Loading Model and Making Prediction"
      ]
    },
    {
      "cell_type": "code",
      "execution_count": 43,
      "metadata": {
        "id": "whjXi_3gfJ2Z"
      },
      "outputs": [],
      "source": [
        "new_model = keras.models.load_model('boston_house_model.h5')"
      ]
    },
    {
      "cell_type": "code",
      "execution_count": 44,
      "metadata": {
        "colab": {
          "base_uri": "https://localhost:8080/"
        },
        "id": "Yw4W8bAKfh7m",
        "outputId": "ef4aef44-dc8c-4923-f342-45d28d149209"
      },
      "outputs": [
        {
          "output_type": "execute_result",
          "data": {
            "text/plain": [
              "array([[-0.43972209, -0.49737352,  0.11192699, -0.23570226,  0.15058645,\n",
              "        -0.22400612,  0.29568178, -0.72637902, -0.99031588, -0.79900328,\n",
              "         1.16455837,  0.43752692, -0.47255256]])"
            ]
          },
          "metadata": {},
          "execution_count": 44
        }
      ],
      "source": [
        "test_X[0:1]"
      ]
    },
    {
      "cell_type": "code",
      "execution_count": 45,
      "metadata": {
        "colab": {
          "base_uri": "https://localhost:8080/"
        },
        "id": "0hdgTYNOfaE3",
        "outputId": "8dffa32a-3b97-45e0-c080-5116c5b0b766"
      },
      "outputs": [
        {
          "output_type": "stream",
          "name": "stdout",
          "text": [
            "1/1 [==============================] - 0s 61ms/step\n"
          ]
        }
      ],
      "source": [
        "house_price_pred = model.predict(test_X[0:1])"
      ]
    },
    {
      "cell_type": "code",
      "execution_count": 46,
      "metadata": {
        "colab": {
          "base_uri": "https://localhost:8080/"
        },
        "id": "7ZXYvV9hfwP0",
        "outputId": "98a462a7-5cca-4252-a751-af99c3cacbc2"
      },
      "outputs": [
        {
          "output_type": "execute_result",
          "data": {
            "text/plain": [
              "array([22.04289], dtype=float32)"
            ]
          },
          "metadata": {},
          "execution_count": 46
        }
      ],
      "source": [
        "house_price_pred[0]"
      ]
    },
    {
      "cell_type": "markdown",
      "metadata": {
        "id": "cle29KQrpUHf"
      },
      "source": [
        "The new data always need to be normalized with training data parameters (mean and standard deviation)."
      ]
    }
  ],
  "metadata": {
    "colab": {
      "provenance": []
    },
    "kernelspec": {
      "display_name": "Python 3 (ipykernel)",
      "language": "python",
      "name": "python3"
    },
    "language_info": {
      "codemirror_mode": {
        "name": "ipython",
        "version": 3
      },
      "file_extension": ".py",
      "mimetype": "text/x-python",
      "name": "python",
      "nbconvert_exporter": "python",
      "pygments_lexer": "ipython3",
      "version": "3.10.9"
    }
  },
  "nbformat": 4,
  "nbformat_minor": 0
}